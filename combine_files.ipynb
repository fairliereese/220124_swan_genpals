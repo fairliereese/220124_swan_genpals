{
 "cells": [
  {
   "cell_type": "code",
   "execution_count": 2,
   "id": "brilliant-tobago",
   "metadata": {},
   "outputs": [],
   "source": [
    "import os\n",
    "import glob"
   ]
  },
  {
   "cell_type": "code",
   "execution_count": 12,
   "id": "coordinated-framework",
   "metadata": {},
   "outputs": [
    {
     "name": "stdout",
     "output_type": "stream",
     "text": [
      "sc_mb.gtf\n",
      "chr1\tHAVANA\tgene\t4773211\t4784566\t.\t-\t.\tgene_id \"ENSMUSG00000033845.13\"; gene_name \"Mrpl15\"; gene_status \"KNOWN\"; gene_type \"protein_coding\"; talon_gene \"32\"; havana_gene \"OTTMUSG00000029329.3\"; level \"2\";\n",
      "\n",
      "['chr1', 'HAVANA', 'gene', '4773211', '4784566', '.', '-', '.', 'gene_id \"ENSMUSG00000033845.13\"; gene_name \"Mrpl15\"; gene_status \"KNOWN\"; gene_type \"protein_coding\"; talon_gene \"32\"; havana_gene \"OTTMUSG00000029329.3\"; level \"2\";\\n']\n",
      "ENSMUSG00000033845.13\n"
     ]
    }
   ],
   "source": [
    "r = '*gtf'\n",
    "fname = 'temp'\n",
    "ofile = open(fname, 'w')\n",
    "transcripts = []\n",
    "genes = []\n",
    "for f in glob.glob(r):\n",
    "    print(f)\n",
    "    ifile = open(f, 'r')\n",
    "    for line in ifile: \n",
    "        if line.startswith('#'):\n",
    "            continue\n",
    "        line = line.split('\\t')\n",
    "        if line[2] == 'gene':\n",
    "            gid = line[8].split('gene_id \"')[1]\n",
    "            gid = gid.split('\";')[0]\n",
    "            print(gid)\n",
    "        if line[2] == 'transcript' or line[2] == 'exon':\n",
    "            tid = line[8].split('transcript_id \"')[1]\n",
    "            tid = tid.split('\";')[0]\n",
    "        break\n",
    "    break\n",
    "            "
   ]
  },
  {
   "cell_type": "code",
   "execution_count": null,
   "id": "central-builder",
   "metadata": {},
   "outputs": [],
   "source": []
  }
 ],
 "metadata": {
  "kernelspec": {
   "display_name": "Python 3",
   "language": "python",
   "name": "python3"
  },
  "language_info": {
   "codemirror_mode": {
    "name": "ipython",
    "version": 3
   },
   "file_extension": ".py",
   "mimetype": "text/x-python",
   "name": "python",
   "nbconvert_exporter": "python",
   "pygments_lexer": "ipython3",
   "version": "3.7.4"
  }
 },
 "nbformat": 4,
 "nbformat_minor": 5
}
