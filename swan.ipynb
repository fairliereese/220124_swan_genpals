{
 "cells": [
  {
   "cell_type": "code",
   "execution_count": 28,
   "id": "engaged-signal",
   "metadata": {},
   "outputs": [],
   "source": [
    "import swan_vis as swan\n",
    "import scanpy as sc\n",
    "import glob\n",
    "import pandas as pd"
   ]
  },
  {
   "cell_type": "code",
   "execution_count": 2,
   "id": "victorian-plate",
   "metadata": {},
   "outputs": [
    {
     "name": "stdout",
     "output_type": "stream",
     "text": [
      "\n",
      "Adding annotation to the SwanGraph\n"
     ]
    },
    {
     "name": "stderr",
     "output_type": "stream",
     "text": [
      "Processing transcripts: 100%|█████████▉| 141800/141862 [01:02<00:00, 2265.44it/s]\n"
     ]
    },
    {
     "name": "stdout",
     "output_type": "stream",
     "text": [
      "Reindexing and sorting entries on genomic location...\n"
     ]
    },
    {
     "name": "stderr",
     "output_type": "stream",
     "text": [
      "Reindexing vertices: 100%|█████████▉| 754000/754537 [00:00<00:00, 993838.12it/s] \n",
      "Reindexing edges:  97%|█████████▋| 730000/754537 [00:00<00:00, 793620.52it/s] \n"
     ]
    },
    {
     "name": "stdout",
     "output_type": "stream",
     "text": [
      "\n",
      "Annotation added to the SwanGraph\n"
     ]
    }
   ],
   "source": [
    "annot = 'gencode.vM21.primary_assembly.annotation_UCSC_names.gtf'\n",
    "gtf1 = 'sc_mb.gtf'\n",
    "gtf2 = 'sn_mb.gtf'\n",
    "gtf3 = 'sn_mt.gtf'\n",
    "\n",
    "sg = swan.SwanGraph(sc=True)\n",
    "sg.add_annotation(annot, verbose=True)"
   ]
  },
  {
   "cell_type": "code",
   "execution_count": 3,
   "id": "french-jefferson",
   "metadata": {},
   "outputs": [
    {
     "name": "stdout",
     "output_type": "stream",
     "text": [
      "\n",
      "Adding transcriptome to the SwanGraph\n"
     ]
    },
    {
     "name": "stderr",
     "output_type": "stream",
     "text": [
      "Processing transcripts: 100%|█████████▉| 34000/34097 [02:35<00:00, 218.54it/s] \n"
     ]
    },
    {
     "name": "stdout",
     "output_type": "stream",
     "text": [
      "Reindexing and sorting entries on genomic location...\n"
     ]
    },
    {
     "name": "stderr",
     "output_type": "stream",
     "text": [
      "Reindexing vertices: 100%|█████████▉| 757000/757448 [00:00<00:00, 859263.60it/s] \n",
      "Reindexing edges:  97%|█████████▋| 733000/757448 [00:01<00:00, 670332.02it/s]\n"
     ]
    },
    {
     "name": "stdout",
     "output_type": "stream",
     "text": [
      "\n",
      "Transcriptome added to the SwanGraph\n"
     ]
    }
   ],
   "source": [
    "sg.add_transcriptome(gtf1, verbose=True)"
   ]
  },
  {
   "cell_type": "code",
   "execution_count": 4,
   "id": "imperial-expansion",
   "metadata": {},
   "outputs": [
    {
     "name": "stdout",
     "output_type": "stream",
     "text": [
      "\n",
      "Adding transcriptome to the SwanGraph\n"
     ]
    },
    {
     "name": "stderr",
     "output_type": "stream",
     "text": [
      "Processing transcripts: 100%|█████████▉| 25100/25193 [02:26<00:00, 171.41it/s]  \n"
     ]
    },
    {
     "name": "stdout",
     "output_type": "stream",
     "text": [
      "Reindexing and sorting entries on genomic location...\n"
     ]
    },
    {
     "name": "stderr",
     "output_type": "stream",
     "text": [
      "Reindexing vertices: 100%|█████████▉| 757000/757733 [00:00<00:00, 876358.04it/s] \n",
      "Reindexing edges:  97%|█████████▋| 733000/757733 [00:01<00:00, 626922.89it/s]\n"
     ]
    },
    {
     "name": "stdout",
     "output_type": "stream",
     "text": [
      "\n",
      "Transcriptome added to the SwanGraph\n"
     ]
    }
   ],
   "source": [
    "sg.add_transcriptome(gtf2, verbose=True)"
   ]
  },
  {
   "cell_type": "code",
   "execution_count": 5,
   "id": "sufficient-importance",
   "metadata": {},
   "outputs": [
    {
     "name": "stderr",
     "output_type": "stream",
     "text": [
      "  0%|          | 0/16662 [00:00<?, ?it/s]"
     ]
    },
    {
     "name": "stdout",
     "output_type": "stream",
     "text": [
      "\n",
      "Adding transcriptome to the SwanGraph\n"
     ]
    },
    {
     "name": "stderr",
     "output_type": "stream",
     "text": [
      "Processing transcripts: 100%|█████████▉| 16600/16662 [02:24<00:00, 115.13it/s]  \n"
     ]
    },
    {
     "name": "stdout",
     "output_type": "stream",
     "text": [
      "Reindexing and sorting entries on genomic location...\n"
     ]
    },
    {
     "name": "stderr",
     "output_type": "stream",
     "text": [
      "Reindexing vertices: 100%|█████████▉| 757000/757922 [00:00<00:00, 995652.84it/s] \n",
      "Reindexing edges:  97%|█████████▋| 733000/757922 [00:01<00:00, 645221.47it/s]\n"
     ]
    },
    {
     "name": "stdout",
     "output_type": "stream",
     "text": [
      "\n",
      "Transcriptome added to the SwanGraph\n"
     ]
    }
   ],
   "source": [
    "sg.add_transcriptome(gtf3, verbose=True)"
   ]
  },
  {
   "cell_type": "code",
   "execution_count": 7,
   "id": "honest-police",
   "metadata": {},
   "outputs": [
    {
     "data": {
      "text/plain": [
       "144358"
      ]
     },
     "execution_count": 7,
     "metadata": {},
     "output_type": "execute_result"
    }
   ],
   "source": [
    "len(sg.t_df.index)"
   ]
  },
  {
   "cell_type": "code",
   "execution_count": 17,
   "id": "anonymous-plymouth",
   "metadata": {},
   "outputs": [],
   "source": [
    "# concatenate and format the h5ad files\n",
    "i = 0\n",
    "for f in glob.glob('*h5ad'):\n",
    "    exp = f.split('.')[0]\n",
    "    if i == 0:\n",
    "        adata = sc.read(f)\n",
    "        adata.obs['exp'] = exp\n",
    "    else:\n",
    "        temp = sc.read(f)\n",
    "        temp.obs['exp'] = exp\n",
    "        adata = adata.concatenate(temp)\n",
    "    i += 1"
   ]
  },
  {
   "cell_type": "code",
   "execution_count": 18,
   "id": "stuffed-litigation",
   "metadata": {},
   "outputs": [
    {
     "data": {
      "text/plain": [
       "(22806, 3)"
      ]
     },
     "execution_count": 18,
     "metadata": {},
     "output_type": "execute_result"
    }
   ],
   "source": [
    "adata.var.shape"
   ]
  },
  {
   "cell_type": "code",
   "execution_count": 19,
   "id": "olive-sandwich",
   "metadata": {},
   "outputs": [
    {
     "data": {
      "text/plain": [
       "(464, 22806)"
      ]
     },
     "execution_count": 19,
     "metadata": {},
     "output_type": "execute_result"
    }
   ],
   "source": [
    "adata.X.shape"
   ]
  },
  {
   "cell_type": "code",
   "execution_count": 21,
   "id": "critical-yahoo",
   "metadata": {},
   "outputs": [],
   "source": [
    "tids = adata.var.transcript_id.tolist()"
   ]
  },
  {
   "cell_type": "code",
   "execution_count": 23,
   "id": "tamil-uganda",
   "metadata": {},
   "outputs": [],
   "source": [
    "bcs = adata.obs.index.tolist()"
   ]
  },
  {
   "cell_type": "code",
   "execution_count": 25,
   "id": "unable-shirt",
   "metadata": {},
   "outputs": [],
   "source": [
    "X = adata.X.transpose()"
   ]
  },
  {
   "cell_type": "code",
   "execution_count": 26,
   "id": "orange-ensemble",
   "metadata": {},
   "outputs": [
    {
     "data": {
      "text/plain": [
       "(22806, 464)"
      ]
     },
     "execution_count": 26,
     "metadata": {},
     "output_type": "execute_result"
    }
   ],
   "source": [
    "X.shape"
   ]
  },
  {
   "cell_type": "code",
   "execution_count": 29,
   "id": "under-directive",
   "metadata": {},
   "outputs": [],
   "source": [
    "df = pd.DataFrame(index=tids, columns=bcs, data=X)"
   ]
  },
  {
   "cell_type": "code",
   "execution_count": 30,
   "id": "equipped-legend",
   "metadata": {},
   "outputs": [
    {
     "data": {
      "text/html": [
       "<div>\n",
       "<style scoped>\n",
       "    .dataframe tbody tr th:only-of-type {\n",
       "        vertical-align: middle;\n",
       "    }\n",
       "\n",
       "    .dataframe tbody tr th {\n",
       "        vertical-align: top;\n",
       "    }\n",
       "\n",
       "    .dataframe thead th {\n",
       "        text-align: right;\n",
       "    }\n",
       "</style>\n",
       "<table border=\"1\" class=\"dataframe\">\n",
       "  <thead>\n",
       "    <tr style=\"text-align: right;\">\n",
       "      <th></th>\n",
       "      <th>ACTATGCAACACGACCGTGCTAGC-0-0</th>\n",
       "      <th>GAGTTAGCTCTTCACATTCCGATC-0-0</th>\n",
       "      <th>CTGGCATAACAAGCTACTTTGGTC-0-0</th>\n",
       "      <th>ATCATTCCGACAGTGCAGCGAAAC-0-0</th>\n",
       "      <th>ATTGGCTCGAGCTGAACTTTGGTC-0-0</th>\n",
       "      <th>CGACTGGATGGTGGTACGTCTAGG-0-0</th>\n",
       "      <th>CGAACTTACTCAATGAGTGCTAGC-0-0</th>\n",
       "      <th>GATAGACAAAGACGGAGTGCTAGC-0-0</th>\n",
       "      <th>GATAGACAATTGGCTCCGCCCGGA-0-0</th>\n",
       "      <th>AAGACGGACACCTTACCACAATTG-0-0</th>\n",
       "      <th>...</th>\n",
       "      <th>TTCACGCAGCCAAGACGTTCAACA-1</th>\n",
       "      <th>AGTGGTCAGGAGAACATTATTCTG-1</th>\n",
       "      <th>AGTCACTAAGATGTACAATTTCTC-1</th>\n",
       "      <th>CAGCGTTACCTAATCCAATTTCTC-1</th>\n",
       "      <th>AGATGTACGGTGCGAAGTTCAACA-1</th>\n",
       "      <th>GCCACATACCTCTATCTACGGTTA-1</th>\n",
       "      <th>ATTGAGGAAACGCTTAAATTTCTC-1</th>\n",
       "      <th>GGAGAACAGCTCGGTATTATTCTG-1</th>\n",
       "      <th>TGGTGGTAACAGCAGATGAAGCAA-1</th>\n",
       "      <th>TCCGTCTAAGGCTAACAATTTCTC-1</th>\n",
       "    </tr>\n",
       "  </thead>\n",
       "  <tbody>\n",
       "    <tr>\n",
       "      <th>ENSMUST00000156816.6</th>\n",
       "      <td>0.0</td>\n",
       "      <td>0.0</td>\n",
       "      <td>0.0</td>\n",
       "      <td>0.0</td>\n",
       "      <td>0.0</td>\n",
       "      <td>0.0</td>\n",
       "      <td>0.0</td>\n",
       "      <td>0.0</td>\n",
       "      <td>0.0</td>\n",
       "      <td>0.0</td>\n",
       "      <td>...</td>\n",
       "      <td>0.0</td>\n",
       "      <td>0.0</td>\n",
       "      <td>0.0</td>\n",
       "      <td>0.0</td>\n",
       "      <td>0.0</td>\n",
       "      <td>0.0</td>\n",
       "      <td>0.0</td>\n",
       "      <td>0.0</td>\n",
       "      <td>0.0</td>\n",
       "      <td>0.0</td>\n",
       "    </tr>\n",
       "    <tr>\n",
       "      <th>ENSMUST00000192286.1</th>\n",
       "      <td>0.0</td>\n",
       "      <td>0.0</td>\n",
       "      <td>0.0</td>\n",
       "      <td>0.0</td>\n",
       "      <td>0.0</td>\n",
       "      <td>0.0</td>\n",
       "      <td>0.0</td>\n",
       "      <td>0.0</td>\n",
       "      <td>0.0</td>\n",
       "      <td>0.0</td>\n",
       "      <td>...</td>\n",
       "      <td>0.0</td>\n",
       "      <td>0.0</td>\n",
       "      <td>0.0</td>\n",
       "      <td>0.0</td>\n",
       "      <td>0.0</td>\n",
       "      <td>0.0</td>\n",
       "      <td>0.0</td>\n",
       "      <td>0.0</td>\n",
       "      <td>0.0</td>\n",
       "      <td>0.0</td>\n",
       "    </tr>\n",
       "    <tr>\n",
       "      <th>ENSMUST00000195445.1</th>\n",
       "      <td>0.0</td>\n",
       "      <td>0.0</td>\n",
       "      <td>0.0</td>\n",
       "      <td>1.0</td>\n",
       "      <td>0.0</td>\n",
       "      <td>0.0</td>\n",
       "      <td>0.0</td>\n",
       "      <td>0.0</td>\n",
       "      <td>0.0</td>\n",
       "      <td>0.0</td>\n",
       "      <td>...</td>\n",
       "      <td>0.0</td>\n",
       "      <td>0.0</td>\n",
       "      <td>0.0</td>\n",
       "      <td>0.0</td>\n",
       "      <td>0.0</td>\n",
       "      <td>0.0</td>\n",
       "      <td>0.0</td>\n",
       "      <td>0.0</td>\n",
       "      <td>0.0</td>\n",
       "      <td>0.0</td>\n",
       "    </tr>\n",
       "    <tr>\n",
       "      <th>ENSMUST00000027036.10</th>\n",
       "      <td>0.0</td>\n",
       "      <td>0.0</td>\n",
       "      <td>0.0</td>\n",
       "      <td>0.0</td>\n",
       "      <td>0.0</td>\n",
       "      <td>0.0</td>\n",
       "      <td>0.0</td>\n",
       "      <td>0.0</td>\n",
       "      <td>0.0</td>\n",
       "      <td>0.0</td>\n",
       "      <td>...</td>\n",
       "      <td>0.0</td>\n",
       "      <td>0.0</td>\n",
       "      <td>0.0</td>\n",
       "      <td>0.0</td>\n",
       "      <td>0.0</td>\n",
       "      <td>0.0</td>\n",
       "      <td>0.0</td>\n",
       "      <td>0.0</td>\n",
       "      <td>0.0</td>\n",
       "      <td>0.0</td>\n",
       "    </tr>\n",
       "    <tr>\n",
       "      <th>ENSMUST00000115529.7</th>\n",
       "      <td>0.0</td>\n",
       "      <td>0.0</td>\n",
       "      <td>0.0</td>\n",
       "      <td>0.0</td>\n",
       "      <td>0.0</td>\n",
       "      <td>0.0</td>\n",
       "      <td>0.0</td>\n",
       "      <td>0.0</td>\n",
       "      <td>0.0</td>\n",
       "      <td>0.0</td>\n",
       "      <td>...</td>\n",
       "      <td>0.0</td>\n",
       "      <td>0.0</td>\n",
       "      <td>0.0</td>\n",
       "      <td>0.0</td>\n",
       "      <td>0.0</td>\n",
       "      <td>0.0</td>\n",
       "      <td>0.0</td>\n",
       "      <td>0.0</td>\n",
       "      <td>0.0</td>\n",
       "      <td>0.0</td>\n",
       "    </tr>\n",
       "  </tbody>\n",
       "</table>\n",
       "<p>5 rows × 464 columns</p>\n",
       "</div>"
      ],
      "text/plain": [
       "                       ACTATGCAACACGACCGTGCTAGC-0-0  \\\n",
       "ENSMUST00000156816.6                            0.0   \n",
       "ENSMUST00000192286.1                            0.0   \n",
       "ENSMUST00000195445.1                            0.0   \n",
       "ENSMUST00000027036.10                           0.0   \n",
       "ENSMUST00000115529.7                            0.0   \n",
       "\n",
       "                       GAGTTAGCTCTTCACATTCCGATC-0-0  \\\n",
       "ENSMUST00000156816.6                            0.0   \n",
       "ENSMUST00000192286.1                            0.0   \n",
       "ENSMUST00000195445.1                            0.0   \n",
       "ENSMUST00000027036.10                           0.0   \n",
       "ENSMUST00000115529.7                            0.0   \n",
       "\n",
       "                       CTGGCATAACAAGCTACTTTGGTC-0-0  \\\n",
       "ENSMUST00000156816.6                            0.0   \n",
       "ENSMUST00000192286.1                            0.0   \n",
       "ENSMUST00000195445.1                            0.0   \n",
       "ENSMUST00000027036.10                           0.0   \n",
       "ENSMUST00000115529.7                            0.0   \n",
       "\n",
       "                       ATCATTCCGACAGTGCAGCGAAAC-0-0  \\\n",
       "ENSMUST00000156816.6                            0.0   \n",
       "ENSMUST00000192286.1                            0.0   \n",
       "ENSMUST00000195445.1                            1.0   \n",
       "ENSMUST00000027036.10                           0.0   \n",
       "ENSMUST00000115529.7                            0.0   \n",
       "\n",
       "                       ATTGGCTCGAGCTGAACTTTGGTC-0-0  \\\n",
       "ENSMUST00000156816.6                            0.0   \n",
       "ENSMUST00000192286.1                            0.0   \n",
       "ENSMUST00000195445.1                            0.0   \n",
       "ENSMUST00000027036.10                           0.0   \n",
       "ENSMUST00000115529.7                            0.0   \n",
       "\n",
       "                       CGACTGGATGGTGGTACGTCTAGG-0-0  \\\n",
       "ENSMUST00000156816.6                            0.0   \n",
       "ENSMUST00000192286.1                            0.0   \n",
       "ENSMUST00000195445.1                            0.0   \n",
       "ENSMUST00000027036.10                           0.0   \n",
       "ENSMUST00000115529.7                            0.0   \n",
       "\n",
       "                       CGAACTTACTCAATGAGTGCTAGC-0-0  \\\n",
       "ENSMUST00000156816.6                            0.0   \n",
       "ENSMUST00000192286.1                            0.0   \n",
       "ENSMUST00000195445.1                            0.0   \n",
       "ENSMUST00000027036.10                           0.0   \n",
       "ENSMUST00000115529.7                            0.0   \n",
       "\n",
       "                       GATAGACAAAGACGGAGTGCTAGC-0-0  \\\n",
       "ENSMUST00000156816.6                            0.0   \n",
       "ENSMUST00000192286.1                            0.0   \n",
       "ENSMUST00000195445.1                            0.0   \n",
       "ENSMUST00000027036.10                           0.0   \n",
       "ENSMUST00000115529.7                            0.0   \n",
       "\n",
       "                       GATAGACAATTGGCTCCGCCCGGA-0-0  \\\n",
       "ENSMUST00000156816.6                            0.0   \n",
       "ENSMUST00000192286.1                            0.0   \n",
       "ENSMUST00000195445.1                            0.0   \n",
       "ENSMUST00000027036.10                           0.0   \n",
       "ENSMUST00000115529.7                            0.0   \n",
       "\n",
       "                       AAGACGGACACCTTACCACAATTG-0-0  ...  \\\n",
       "ENSMUST00000156816.6                            0.0  ...   \n",
       "ENSMUST00000192286.1                            0.0  ...   \n",
       "ENSMUST00000195445.1                            0.0  ...   \n",
       "ENSMUST00000027036.10                           0.0  ...   \n",
       "ENSMUST00000115529.7                            0.0  ...   \n",
       "\n",
       "                       TTCACGCAGCCAAGACGTTCAACA-1  AGTGGTCAGGAGAACATTATTCTG-1  \\\n",
       "ENSMUST00000156816.6                          0.0                         0.0   \n",
       "ENSMUST00000192286.1                          0.0                         0.0   \n",
       "ENSMUST00000195445.1                          0.0                         0.0   \n",
       "ENSMUST00000027036.10                         0.0                         0.0   \n",
       "ENSMUST00000115529.7                          0.0                         0.0   \n",
       "\n",
       "                       AGTCACTAAGATGTACAATTTCTC-1  CAGCGTTACCTAATCCAATTTCTC-1  \\\n",
       "ENSMUST00000156816.6                          0.0                         0.0   \n",
       "ENSMUST00000192286.1                          0.0                         0.0   \n",
       "ENSMUST00000195445.1                          0.0                         0.0   \n",
       "ENSMUST00000027036.10                         0.0                         0.0   \n",
       "ENSMUST00000115529.7                          0.0                         0.0   \n",
       "\n",
       "                       AGATGTACGGTGCGAAGTTCAACA-1  GCCACATACCTCTATCTACGGTTA-1  \\\n",
       "ENSMUST00000156816.6                          0.0                         0.0   \n",
       "ENSMUST00000192286.1                          0.0                         0.0   \n",
       "ENSMUST00000195445.1                          0.0                         0.0   \n",
       "ENSMUST00000027036.10                         0.0                         0.0   \n",
       "ENSMUST00000115529.7                          0.0                         0.0   \n",
       "\n",
       "                       ATTGAGGAAACGCTTAAATTTCTC-1  GGAGAACAGCTCGGTATTATTCTG-1  \\\n",
       "ENSMUST00000156816.6                          0.0                         0.0   \n",
       "ENSMUST00000192286.1                          0.0                         0.0   \n",
       "ENSMUST00000195445.1                          0.0                         0.0   \n",
       "ENSMUST00000027036.10                         0.0                         0.0   \n",
       "ENSMUST00000115529.7                          0.0                         0.0   \n",
       "\n",
       "                       TGGTGGTAACAGCAGATGAAGCAA-1  TCCGTCTAAGGCTAACAATTTCTC-1  \n",
       "ENSMUST00000156816.6                          0.0                         0.0  \n",
       "ENSMUST00000192286.1                          0.0                         0.0  \n",
       "ENSMUST00000195445.1                          0.0                         0.0  \n",
       "ENSMUST00000027036.10                         0.0                         0.0  \n",
       "ENSMUST00000115529.7                          0.0                         0.0  \n",
       "\n",
       "[5 rows x 464 columns]"
      ]
     },
     "execution_count": 30,
     "metadata": {},
     "output_type": "execute_result"
    }
   ],
   "source": [
    "df.head()"
   ]
  },
  {
   "cell_type": "code",
   "execution_count": 31,
   "id": "accompanied-fetish",
   "metadata": {},
   "outputs": [],
   "source": [
    "df.to_csv('c2c12_abundance.tsv', sep='\\t')"
   ]
  },
  {
   "cell_type": "code",
   "execution_count": 33,
   "id": "reflected-weight",
   "metadata": {},
   "outputs": [],
   "source": [
    "adata.obs.to_csv('c2c12_metadata.tsv', sep='\\t')"
   ]
  },
  {
   "cell_type": "code",
   "execution_count": null,
   "id": "killing-plasma",
   "metadata": {},
   "outputs": [],
   "source": []
  }
 ],
 "metadata": {
  "kernelspec": {
   "display_name": "Python 3",
   "language": "python",
   "name": "python3"
  },
  "language_info": {
   "codemirror_mode": {
    "name": "ipython",
    "version": 3
   },
   "file_extension": ".py",
   "mimetype": "text/x-python",
   "name": "python",
   "nbconvert_exporter": "python",
   "pygments_lexer": "ipython3",
   "version": "3.7.4"
  }
 },
 "nbformat": 4,
 "nbformat_minor": 5
}
