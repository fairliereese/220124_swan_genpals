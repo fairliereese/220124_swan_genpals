{
 "cells": [
  {
   "cell_type": "code",
   "execution_count": 24,
   "id": "thirty-handy",
   "metadata": {},
   "outputs": [],
   "source": [
    "import swan_vis as swan\n",
    "import scanpy as sc\n",
    "import glob\n",
    "import pandas as pd"
   ]
  },
  {
   "cell_type": "code",
   "execution_count": 3,
   "id": "removable-skirt",
   "metadata": {},
   "outputs": [],
   "source": [
    "def get_lr_cluster_colors():\n",
    "    purple = '#8DA0CB'\n",
    "    yellow = '#FFD92F'\n",
    "    green = '#A6D854'\n",
    "    pink = '#E78AC3'\n",
    "    beige = '#E5C494'\n",
    "    salmon = '#FC8D62'\n",
    "    teal = '#66C2A5'\n",
    "    \n",
    "    c_dict = {'1': yellow, '2': beige, '3': teal,\n",
    "              '4': salmon, '5': purple, '6': pink, '7': green}\n",
    "    order = ['1', '2', '3', '4', '5', '6', '7']\n",
    "    \n",
    "    return c_dict, order\n",
    "\n",
    "def get_sample_colors(samples=None):\n",
    "    sample_green = '#019f73'\n",
    "    sample_blue = '#57b4e9'\n",
    "    sample_pink = '#cb79a7'\n",
    "    c_dict = {'MB_cells': sample_pink, 'MB_nuclei': sample_blue, 'MT_nuclei': sample_green}\n",
    "    order = ['MB_cells', 'MB_nuclei', 'MT_nuclei']\n",
    "    \n",
    "    if samples:\n",
    "        keys = c_dict.keys()\n",
    "        pop_list = []\n",
    "        for key in keys:\n",
    "            if key not in samples:\n",
    "                pop_list.append(key)\n",
    "        for p in pop_list:\n",
    "            del c_dict[p]\n",
    "        order = [o for o in order if o in samples]            \n",
    "    \n",
    "    return c_dict, order\n",
    "\n",
    "def get_condition_colors():\n",
    "    sample_pink = '#cb79a7'\n",
    "    sample_green = '#019f73'\n",
    "    sample_dark_green = '#066b4b'\n",
    "    c_dict = {'MB': sample_pink, 'MNC': sample_green, 'MT': sample_dark_green}\n",
    "    order = ['MB', 'MNC', 'MT']\n",
    "    \n",
    "    return c_dict, order"
   ]
  },
  {
   "cell_type": "code",
   "execution_count": 2,
   "id": "according-peripheral",
   "metadata": {},
   "outputs": [
    {
     "name": "stdout",
     "output_type": "stream",
     "text": [
      "\n",
      "Adding annotation to the SwanGraph\n"
     ]
    },
    {
     "name": "stderr",
     "output_type": "stream",
     "text": [
      "Processing transcripts: 100%|█████████▉| 141800/141862 [01:02<00:00, 2265.44it/s]\n"
     ]
    },
    {
     "name": "stdout",
     "output_type": "stream",
     "text": [
      "Reindexing and sorting entries on genomic location...\n"
     ]
    },
    {
     "name": "stderr",
     "output_type": "stream",
     "text": [
      "Reindexing vertices: 100%|█████████▉| 754000/754537 [00:00<00:00, 993838.12it/s] \n",
      "Reindexing edges:  97%|█████████▋| 730000/754537 [00:00<00:00, 793620.52it/s] \n"
     ]
    },
    {
     "name": "stdout",
     "output_type": "stream",
     "text": [
      "\n",
      "Annotation added to the SwanGraph\n"
     ]
    }
   ],
   "source": [
    "annot = 'gencode.vM21.primary_assembly.annotation_UCSC_names.gtf'\n",
    "gtf1 = 'sc_mb.gtf'\n",
    "gtf2 = 'sn_mb.gtf'\n",
    "gtf3 = 'sn_mt.gtf'\n",
    "\n",
    "sg = swan.SwanGraph(sc=True)\n",
    "sg.add_annotation(annot, verbose=True)\n",
    "\n",
    "sg.add_transcriptome(gtf1, verbose=True)\n",
    "sg.add_transcriptome(gtf2, verbose=True)\n",
    "sg.add_transcriptome(gtf3, verbose=True)"
   ]
  },
  {
   "cell_type": "code",
   "execution_count": 35,
   "id": "median-implementation",
   "metadata": {},
   "outputs": [
    {
     "name": "stdout",
     "output_type": "stream",
     "text": [
      "Saving graph as swan.p\n"
     ]
    }
   ],
   "source": [
    "sg.save_graph('swan')"
   ]
  },
  {
   "cell_type": "code",
   "execution_count": 33,
   "id": "yellow-google",
   "metadata": {},
   "outputs": [],
   "source": [
    "# concatenate and format the h5ad files\n",
    "i = 0\n",
    "for f in glob.glob('*h5ad'):\n",
    "    exp = f.split('.')[0]\n",
    "    if i == 0:\n",
    "        adata = sc.read(f)\n",
    "        adata.obs['exp'] = exp\n",
    "    else:\n",
    "        temp = sc.read(f)\n",
    "        temp.obs['exp'] = exp\n",
    "        adata = adata.concatenate(temp)\n",
    "    i += 1"
   ]
  },
  {
   "cell_type": "code",
   "execution_count": 34,
   "id": "alpha-sullivan",
   "metadata": {},
   "outputs": [],
   "source": [
    "tids = adata.var.transcript_id.tolist()\n",
    "bcs = adata.obs.index.tolist()\n",
    "X = adata.X.transpose()\n",
    "df = pd.DataFrame(index=tids, columns=bcs, data=X)"
   ]
  },
  {
   "cell_type": "code",
   "execution_count": 35,
   "id": "significant-train",
   "metadata": {},
   "outputs": [],
   "source": [
    "df.to_csv('c2c12_abundance.tsv', sep='\\t')"
   ]
  },
  {
   "cell_type": "code",
   "execution_count": 36,
   "id": "modern-equivalent",
   "metadata": {},
   "outputs": [],
   "source": [
    "meta = adata.obs.copy(deep=True)\n",
    "meta.reset_index(inplace=True)\n",
    "meta['merged_bc_2'] = meta.merged_bc.str.split('-', expand=True)[0]\n",
    "\n",
    "adata = sc.read('/Users/fairliereese/mortazavi_lab/data/c2c12_paper_2020/sc_pacbio/201218/scanpy/gene_processed.h5ad')\n",
    "temp = adata.obs[['merged_bc', 'leiden']]\n",
    "temp.rename({'merged_bc': 'merged_bc_2'}, axis=1, inplace=True)\n",
    "\n",
    "meta = meta.merge(temp, how='left', on='merged_bc_2')\n",
    "meta.rename({'merged_bc':'dataset'}, axis=1, inplace=True)\n",
    "meta.drop('merged_bc_2', axis=1, inplace=True)\n",
    "\n",
    "# # reformat leiden\n",
    "# meta.leiden = (meta.leiden.astype(int)+1).astype(str)\n",
    "\n",
    "# add celltype\n",
    "m = {'1': 'MB', '2': 'MB', '3': 'MB',\n",
    "     '4': 'MNC', '5': 'MNC',\n",
    "     '6': 'MT', '7': 'MT'}\n",
    "meta['cell_type'] = meta.leiden.map(m)\n",
    "\n",
    "meta.to_csv('c2c12_metadata.tsv', sep='\\t')"
   ]
  },
  {
   "cell_type": "code",
   "execution_count": 37,
   "id": "sustained-yugoslavia",
   "metadata": {},
   "outputs": [
    {
     "name": "stdout",
     "output_type": "stream",
     "text": [
      "\n",
      "Adding abundance for datasets ACTATGCAACACGACCGTGCTAGC-0-0, GAGTTAGCTCTTCACATTCCGATC-0-0, CTGGCATAACAAGCTACTTTGGTC-0-0, ATCATTCCGACAGTGCAGCGAAAC-0-0, ATTGGCTCGAGCTGAACTTTGGTC-0-0... (and 459 more) to SwanGraph\n"
     ]
    },
    {
     "name": "stderr",
     "output_type": "stream",
     "text": [
      "/Users/fairliereese/miniconda3/lib/python3.7/site-packages/anndata/_core/anndata.py:120: ImplicitModificationWarning: Transforming to str index.\n",
      "  warnings.warn(\"Transforming to str index.\", ImplicitModificationWarning)\n"
     ]
    }
   ],
   "source": [
    "# now add abundance file and metadata to SwanGraph\n",
    "ab = 'c2c12_abundance.tsv'\n",
    "sg.add_abundance(ab)"
   ]
  },
  {
   "cell_type": "code",
   "execution_count": 119,
   "id": "furnished-valuation",
   "metadata": {},
   "outputs": [
    {
     "name": "stderr",
     "output_type": "stream",
     "text": [
      "/Users/fairliereese/miniconda3/lib/python3.7/site-packages/anndata/_core/anndata.py:794: UserWarning: \n",
      "AnnData expects .obs.index to contain strings, but got values like:\n",
      "    [0, 1, 2, 3, 4]\n",
      "\n",
      "    Inferred to be: integer\n",
      "\n",
      "  value_idx = self._prep_dim_index(value.index, attr)\n"
     ]
    }
   ],
   "source": [
    "meta = 'c2c12_metadata.tsv'\n",
    "sg.add_metadata(meta, overwrite=True)"
   ]
  },
  {
   "cell_type": "code",
   "execution_count": 120,
   "id": "associate-privilege",
   "metadata": {},
   "outputs": [
    {
     "name": "stdout",
     "output_type": "stream",
     "text": [
      "Saving graph as swan.p\n"
     ]
    }
   ],
   "source": [
    "sg.save_graph('swan')"
   ]
  },
  {
   "cell_type": "code",
   "execution_count": 1,
   "id": "christian-justice",
   "metadata": {},
   "outputs": [
    {
     "name": "stdout",
     "output_type": "stream",
     "text": [
      "Read in graph from swan.p\n"
     ]
    }
   ],
   "source": [
    "import swan_vis as swan\n",
    "sg = swan.read('swan.p')"
   ]
  },
  {
   "cell_type": "code",
   "execution_count": 4,
   "id": "suspended-kidney",
   "metadata": {},
   "outputs": [],
   "source": [
    "# add colors\n",
    "\n",
    "# sample\n",
    "c_dict, order = get_sample_colors()\n",
    "sg.set_metadata_colors('sample', c_dict)\n",
    "\n",
    "# cell type\n",
    "c_dict, order = get_condition_colors()\n",
    "sg.set_metadata_colors('cell_type', c_dict)\n",
    "\n",
    "# cluster\n",
    "c_dict, order = get_lr_cluster_colors()\n",
    "sg.set_metadata_colors('leiden', c_dict)"
   ]
  },
  {
   "cell_type": "code",
   "execution_count": 15,
   "id": "dominican-boost",
   "metadata": {},
   "outputs": [
    {
     "name": "stdout",
     "output_type": "stream",
     "text": [
      "same cell type ya dingus\n",
      "same cell type ya dingus\n",
      "same cell type ya dingus\n",
      "Testing iso DIE b/w MB and MNC\n",
      "[('MB', 'MNC', 'iso'), ('MNC', 'MB', 'iso')]\n",
      "Testing tss DIE b/w MB and MNC\n",
      "[('MB', 'MNC', 'iso'), ('MNC', 'MB', 'iso'), ('MB', 'MNC', 'tss'), ('MNC', 'MB', 'tss')]\n",
      "Testing tes DIE b/w MB and MNC\n",
      "[('MB', 'MNC', 'iso'), ('MNC', 'MB', 'iso'), ('MB', 'MNC', 'tss'), ('MNC', 'MB', 'tss'), ('MB', 'MNC', 'tes'), ('MNC', 'MB', 'tes')]\n",
      "MNC MB iso\n",
      "already tested ya dingus\n",
      "MNC MB tss\n",
      "already tested ya dingus\n",
      "MNC MB tes\n",
      "already tested ya dingus\n",
      "same cell type ya dingus\n",
      "same cell type ya dingus\n",
      "same cell type ya dingus\n"
     ]
    }
   ],
   "source": [
    "# get switching events b/w each of the \n",
    "# different cell types\n",
    "ofile = open('die_comparisons.tsv', 'w')\n",
    "tests = ['iso', 'tss', 'tes']\n",
    "cell_types = sg.adata.obs.cell_type.unique()\n",
    "tested = []\n",
    "for c1 in cell_types:\n",
    "    for c2 in cell_types:\n",
    "        for test in tests:\n",
    "            if c1 == c2:\n",
    "                print('same cell type ya dingus')\n",
    "                continue\n",
    "            elif (c1, c2, test) in tested or (c2, c1, test) in tested:\n",
    "                print(c1, c2, test)\n",
    "                print('already tested ya dingus')\n",
    "                continue\n",
    "            fname = '{}_{}_{}_die.tsv'.format(c1, c2, test)\n",
    "            print('Testing {} DIE b/w {} and {}'.format(test, c1, c2))\n",
    "#                 die, genes = sg.die_gene_test(kind=test,\n",
    "#                                               obs_col='cell_type',\n",
    "#                                               obs_conditions=[c1, c2],\n",
    "#                                               verbose=True)\n",
    "            ofile.write('{}\\t{}\\t{}\\t{}\\n'.format(test, c1, c2, fname))\n",
    "#                 die.to_csv(fname()\n",
    "            tested.append((c1, c2, test))\n",
    "            tested.append((c2, c1, test))\n",
    "            print(tested)\n",
    "ofile.close()"
   ]
  },
  {
   "cell_type": "code",
   "execution_count": 16,
   "id": "hungry-diving",
   "metadata": {},
   "outputs": [
    {
     "data": {
      "text/plain": [
       "['MB', 'MNC']\n",
       "Categories (2, object): ['MB', 'MNC']"
      ]
     },
     "execution_count": 16,
     "metadata": {},
     "output_type": "execute_result"
    }
   ],
   "source": [
    "cell_types"
   ]
  },
  {
   "cell_type": "code",
   "execution_count": 17,
   "id": "complimentary-testing",
   "metadata": {},
   "outputs": [
    {
     "name": "stdout",
     "output_type": "stream",
     "text": [
      "464\n"
     ]
    }
   ],
   "source": [
    "print(len(sg.adata.obs.index))"
   ]
  },
  {
   "cell_type": "code",
   "execution_count": null,
   "id": "final-frontier",
   "metadata": {},
   "outputs": [],
   "source": [
    "sg.save_graph(swan)"
   ]
  },
  {
   "cell_type": "code",
   "execution_count": 20,
   "id": "offshore-schedule",
   "metadata": {},
   "outputs": [
    {
     "data": {
      "text/plain": [
       "['1', '3', '4', '2']\n",
       "Categories (4, object): ['1', '3', '4', '2']"
      ]
     },
     "execution_count": 20,
     "metadata": {},
     "output_type": "execute_result"
    }
   ],
   "source": [
    "sg.adata.obs.leiden.unique()"
   ]
  },
  {
   "cell_type": "code",
   "execution_count": null,
   "id": "restricted-greece",
   "metadata": {},
   "outputs": [],
   "source": []
  }
 ],
 "metadata": {
  "kernelspec": {
   "display_name": "Python 3",
   "language": "python",
   "name": "python3"
  },
  "language_info": {
   "codemirror_mode": {
    "name": "ipython",
    "version": 3
   },
   "file_extension": ".py",
   "mimetype": "text/x-python",
   "name": "python",
   "nbconvert_exporter": "python",
   "pygments_lexer": "ipython3",
   "version": "3.7.4"
  }
 },
 "nbformat": 4,
 "nbformat_minor": 5
}
