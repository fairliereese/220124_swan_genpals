{
 "cells": [
  {
   "cell_type": "code",
   "execution_count": 28,
   "id": "rubber-wallpaper",
   "metadata": {},
   "outputs": [],
   "source": [
    "import swan_vis as swan\n",
    "import scanpy as sc\n",
    "import glob\n",
    "import pandas as pd"
   ]
  },
  {
   "cell_type": "code",
   "execution_count": 3,
   "id": "following-spanking",
   "metadata": {},
   "outputs": [],
   "source": [
    "def get_lr_cluster_colors():\n",
    "    purple = '#8DA0CB'\n",
    "    yellow = '#FFD92F'\n",
    "    green = '#A6D854'\n",
    "    pink = '#E78AC3'\n",
    "    beige = '#E5C494'\n",
    "    salmon = '#FC8D62'\n",
    "    teal = '#66C2A5'\n",
    "    \n",
    "    c_dict = {'1': yellow, '2': beige, '3': teal,\n",
    "              '4': salmon, '5': purple, '6': pink, '7': green}\n",
    "    order = ['1', '2', '3', '4', '5', '6', '7']\n",
    "    \n",
    "    return c_dict, order\n",
    "\n",
    "def get_sample_colors(samples=None):\n",
    "    sample_green = '#019f73'\n",
    "    sample_blue = '#57b4e9'\n",
    "    sample_pink = '#cb79a7'\n",
    "    c_dict = {'MB_cells': sample_pink, 'MB_nuclei': sample_blue, 'MT_nuclei': sample_green}\n",
    "    order = ['MB_cells', 'MB_nuclei', 'MT_nuclei']\n",
    "    \n",
    "    if samples:\n",
    "        keys = c_dict.keys()\n",
    "        pop_list = []\n",
    "        for key in keys:\n",
    "            if key not in samples:\n",
    "                pop_list.append(key)\n",
    "        for p in pop_list:\n",
    "            del c_dict[p]\n",
    "        order = [o for o in order if o in samples]            \n",
    "    \n",
    "    return c_dict, order\n",
    "\n",
    "def get_condition_colors():\n",
    "    sample_pink = '#cb79a7'\n",
    "    sample_green = '#019f73'\n",
    "    sample_dark_green = '#066b4b'\n",
    "    c_dict = {'MB': sample_pink, 'MNC': sample_green, 'MT': sample_dark_green}\n",
    "    order = ['MB', 'MNC', 'MT']\n",
    "    \n",
    "    return c_dict, order"
   ]
  },
  {
   "cell_type": "code",
   "execution_count": 2,
   "id": "competent-jefferson",
   "metadata": {},
   "outputs": [
    {
     "name": "stdout",
     "output_type": "stream",
     "text": [
      "\n",
      "Adding annotation to the SwanGraph\n"
     ]
    },
    {
     "name": "stderr",
     "output_type": "stream",
     "text": [
      "Processing transcripts: 100%|█████████▉| 141800/141862 [01:02<00:00, 2265.44it/s]\n"
     ]
    },
    {
     "name": "stdout",
     "output_type": "stream",
     "text": [
      "Reindexing and sorting entries on genomic location...\n"
     ]
    },
    {
     "name": "stderr",
     "output_type": "stream",
     "text": [
      "Reindexing vertices: 100%|█████████▉| 754000/754537 [00:00<00:00, 993838.12it/s] \n",
      "Reindexing edges:  97%|█████████▋| 730000/754537 [00:00<00:00, 793620.52it/s] \n"
     ]
    },
    {
     "name": "stdout",
     "output_type": "stream",
     "text": [
      "\n",
      "Annotation added to the SwanGraph\n"
     ]
    }
   ],
   "source": [
    "annot = 'gencode.vM21.primary_assembly.annotation_UCSC_names.gtf'\n",
    "gtf1 = 'sc_mb.gtf'\n",
    "gtf2 = 'sn_mb.gtf'\n",
    "gtf3 = 'sn_mt.gtf'\n",
    "\n",
    "sg = swan.SwanGraph(sc=True)\n",
    "sg.add_annotation(annot, verbose=True)\n",
    "\n",
    "sg.add_transcriptome(gtf1, verbose=True)\n",
    "sg.add_transcriptome(gtf2, verbose=True)\n",
    "sg.add_transcriptome(gtf3, verbose=True)"
   ]
  },
  {
   "cell_type": "code",
   "execution_count": 35,
   "id": "dress-recorder",
   "metadata": {},
   "outputs": [
    {
     "name": "stdout",
     "output_type": "stream",
     "text": [
      "Saving graph as swan.p\n"
     ]
    }
   ],
   "source": [
    "sg.save_graph('swan')"
   ]
  },
  {
   "cell_type": "code",
   "execution_count": 114,
   "id": "limited-broadcasting",
   "metadata": {},
   "outputs": [],
   "source": [
    "# concatenate and format the h5ad files\n",
    "i = 0\n",
    "for f in glob.glob('*h5ad'):\n",
    "    exp = f.split('.')[0]\n",
    "    if i == 0:\n",
    "        adata = sc.read(f)\n",
    "        adata.obs['exp'] = exp\n",
    "    else:\n",
    "        temp = sc.read(f)\n",
    "        temp.obs['exp'] = exp\n",
    "        adata = adata.concatenate(temp)\n",
    "    i += 1"
   ]
  },
  {
   "cell_type": "code",
   "execution_count": 115,
   "id": "excess-worth",
   "metadata": {},
   "outputs": [],
   "source": [
    "df = pd.DataFrame(index=tids, columns=bcs, data=X)"
   ]
  },
  {
   "cell_type": "code",
   "execution_count": 116,
   "id": "acting-glory",
   "metadata": {},
   "outputs": [],
   "source": [
    "df.to_csv('c2c12_abundance.tsv', sep='\\t')"
   ]
  },
  {
   "cell_type": "code",
   "execution_count": 117,
   "id": "excess-biology",
   "metadata": {},
   "outputs": [
    {
     "name": "stderr",
     "output_type": "stream",
     "text": [
      "/Users/fairliereese/miniconda3/lib/python3.7/site-packages/anndata/_core/anndata.py:120: ImplicitModificationWarning: Transforming to str index.\n",
      "  warnings.warn(\"Transforming to str index.\", ImplicitModificationWarning)\n",
      "/Users/fairliereese/miniconda3/lib/python3.7/site-packages/anndata/compat/__init__.py:183: FutureWarning: Moving element from .uns['neighbors']['distances'] to .obsp['distances'].\n",
      "\n",
      "This is where adjacency matrices should go now.\n",
      "  FutureWarning,\n",
      "/Users/fairliereese/miniconda3/lib/python3.7/site-packages/anndata/compat/__init__.py:183: FutureWarning: Moving element from .uns['neighbors']['connectivities'] to .obsp['connectivities'].\n",
      "\n",
      "This is where adjacency matrices should go now.\n",
      "  FutureWarning,\n"
     ]
    }
   ],
   "source": [
    "meta = adata.obs.copy(deep=True)\n",
    "meta.reset_index(inplace=True)\n",
    "meta['merged_bc_2'] = meta.merged_bc.str.split('-', expand=True)[0]\n",
    "\n",
    "adata = sc.read('/Users/fairliereese/mortazavi_lab/data/c2c12_paper_2020/sc_pacbio/201218/scanpy/transcript_processed.h5ad')\n",
    "temp = adata.obs[['merged_bc', 'leiden']]\n",
    "temp.rename({'merged_bc': 'merged_bc_2'}, axis=1, inplace=True)\n",
    "\n",
    "meta = meta.merge(temp, how='left', on='merged_bc_2')\n",
    "meta.rename({'merged_bc':'dataset'}, axis=1, inplace=True)\n",
    "meta.drop('merged_bc_2', axis=1, inplace=True)\n",
    "\n",
    "# reformat leiden\n",
    "meta.leiden = (meta.leiden.astype(int)+1).astype(str)\n",
    "\n",
    "# add celltype\n",
    "m = {'1': 'MB', '2': 'MB', '3': 'MB',\n",
    "     '4': 'MNC', '5': 'MNC',\n",
    "     '6': 'MT', '7': 'MT'}\n",
    "meta['cell_type'] = meta.leiden.map(m)\n",
    "\n",
    "meta.to_csv('c2c12_metadata.tsv', sep='\\t')"
   ]
  },
  {
   "cell_type": "code",
   "execution_count": 37,
   "id": "small-spirit",
   "metadata": {},
   "outputs": [
    {
     "name": "stdout",
     "output_type": "stream",
     "text": [
      "\n",
      "Adding abundance for datasets ACTATGCAACACGACCGTGCTAGC-0-0, GAGTTAGCTCTTCACATTCCGATC-0-0, CTGGCATAACAAGCTACTTTGGTC-0-0, ATCATTCCGACAGTGCAGCGAAAC-0-0, ATTGGCTCGAGCTGAACTTTGGTC-0-0... (and 459 more) to SwanGraph\n"
     ]
    },
    {
     "name": "stderr",
     "output_type": "stream",
     "text": [
      "/Users/fairliereese/miniconda3/lib/python3.7/site-packages/anndata/_core/anndata.py:120: ImplicitModificationWarning: Transforming to str index.\n",
      "  warnings.warn(\"Transforming to str index.\", ImplicitModificationWarning)\n"
     ]
    }
   ],
   "source": [
    "# now add abundance file and metadata to SwanGraph\n",
    "ab = 'c2c12_abundance.tsv'\n",
    "sg.add_abundance(ab)"
   ]
  },
  {
   "cell_type": "code",
   "execution_count": 119,
   "id": "together-princess",
   "metadata": {},
   "outputs": [
    {
     "name": "stderr",
     "output_type": "stream",
     "text": [
      "/Users/fairliereese/miniconda3/lib/python3.7/site-packages/anndata/_core/anndata.py:794: UserWarning: \n",
      "AnnData expects .obs.index to contain strings, but got values like:\n",
      "    [0, 1, 2, 3, 4]\n",
      "\n",
      "    Inferred to be: integer\n",
      "\n",
      "  value_idx = self._prep_dim_index(value.index, attr)\n"
     ]
    }
   ],
   "source": [
    "meta = 'c2c12_metadata.tsv'\n",
    "sg.add_metadata(meta, overwrite=True)"
   ]
  },
  {
   "cell_type": "code",
   "execution_count": 120,
   "id": "worse-gilbert",
   "metadata": {},
   "outputs": [
    {
     "name": "stdout",
     "output_type": "stream",
     "text": [
      "Saving graph as swan.p\n"
     ]
    }
   ],
   "source": [
    "sg.save_graph('swan')"
   ]
  },
  {
   "cell_type": "code",
   "execution_count": 1,
   "id": "latter-single",
   "metadata": {},
   "outputs": [
    {
     "name": "stdout",
     "output_type": "stream",
     "text": [
      "Read in graph from swan.p\n"
     ]
    }
   ],
   "source": [
    "import swan_vis as swan\n",
    "sg = swan.read('swan.p')"
   ]
  },
  {
   "cell_type": "code",
   "execution_count": 4,
   "id": "corresponding-chapter",
   "metadata": {},
   "outputs": [],
   "source": [
    "# add colors\n",
    "\n",
    "# sample\n",
    "c_dict, order = get_sample_colors()\n",
    "sg.set_metadata_colors('sample', c_dict)\n",
    "\n",
    "# cell type\n",
    "c_dict, order = get_condition_colors()\n",
    "sg.set_metadata_colors('cell_type', c_dict)\n",
    "\n",
    "# cluster\n",
    "c_dict, order = get_lr_cluster_colors()\n",
    "sg.set_metadata_colors('leiden', c_dict)"
   ]
  },
  {
   "cell_type": "code",
   "execution_count": 8,
   "id": "aboriginal-vatican",
   "metadata": {},
   "outputs": [],
   "source": [
    "# get switching events b/w each of the \n",
    "# different cell types\n",
    "ofile = open('die_comparisons.tsv', 'w')\n",
    "tests = ['iso', 'tss', 'tes']\n",
    "cell_types = sg.adata.obs.cell_type.unique()\n",
    "tested = []\n",
    "for c1 in cell_types:\n",
    "    for c2 in cell_types:\n",
    "        if c1 == c2:\n",
    "            continue\n",
    "        elif (c1, c2) in tested or (c2, c1) in tested:\n",
    "            continue\n",
    "        else:\n",
    "            for test in tests:\n",
    "                fname = '{}_{}_{}_die.tsv'.format(c1, c2, test)\n",
    "#                 print('Testing {} DIE b/w {} and {}'.format(test, c1, c2))\n",
    "#                 die, genes = sg.die_gene_test(kind=test,\n",
    "#                                               obs_col='cell_type',\n",
    "#                                               obs_conditions=[c1, c2],\n",
    "#                                               verbose=True)\n",
    "                ofile.write('{}\\t{}\\t{}\\t{}\\n'.format(test, c1, c2, fname))\n",
    "#                 die.to_csv(fname()\n",
    "        tested.append((c1, c2))\n",
    "        tested.append((c2, c1))\n",
    "ofile.close()"
   ]
  },
  {
   "cell_type": "code",
   "execution_count": null,
   "id": "agricultural-prerequisite",
   "metadata": {},
   "outputs": [],
   "source": [
    "sg.save_graph(swan)"
   ]
  },
  {
   "cell_type": "code",
   "execution_count": null,
   "id": "hairy-listening",
   "metadata": {},
   "outputs": [],
   "source": []
  }
 ],
 "metadata": {
  "kernelspec": {
   "display_name": "Python 3",
   "language": "python",
   "name": "python3"
  },
  "language_info": {
   "codemirror_mode": {
    "name": "ipython",
    "version": 3
   },
   "file_extension": ".py",
   "mimetype": "text/x-python",
   "name": "python",
   "nbconvert_exporter": "python",
   "pygments_lexer": "ipython3",
   "version": "3.7.4"
  }
 },
 "nbformat": 4,
 "nbformat_minor": 5
}
